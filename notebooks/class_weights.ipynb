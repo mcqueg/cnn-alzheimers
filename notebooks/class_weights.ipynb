{
 "cells": [
  {
   "cell_type": "code",
   "execution_count": 17,
   "metadata": {},
   "outputs": [],
   "source": [
    "\n",
    "import os \n",
    "ROOT = '/Users/garrettmccue/projects/cnn-alzheimers/'\n",
    "TRAIN_DIR = f'{ROOT}data/processed/ADNI/train'\n",
    "os.chdir(ROOT)\n",
    "\n",
    "import models\n",
    "from models.class_weights  import get_class_weights"
   ]
  },
  {
   "cell_type": "code",
   "execution_count": 18,
   "metadata": {},
   "outputs": [
    {
     "ename": "UnboundLocalError",
     "evalue": "local variable 'weights_dict' referenced before assignment",
     "output_type": "error",
     "traceback": [
      "\u001b[0;31m---------------------------------------------------------------------------\u001b[0m",
      "\u001b[0;31mUnboundLocalError\u001b[0m                         Traceback (most recent call last)",
      "\u001b[1;32m/Users/garrettmccue/projects/cnn-alzheimers/notebooks/class_weights.ipynb Cell 2\u001b[0m in \u001b[0;36m<cell line: 1>\u001b[0;34m()\u001b[0m\n\u001b[0;32m----> <a href='vscode-notebook-cell:/Users/garrettmccue/projects/cnn-alzheimers/notebooks/class_weights.ipynb#W1sZmlsZQ%3D%3D?line=0'>1</a>\u001b[0m weights \u001b[39m=\u001b[39m get_class_weights(TRAIN_DIR)\n\u001b[1;32m      <a href='vscode-notebook-cell:/Users/garrettmccue/projects/cnn-alzheimers/notebooks/class_weights.ipynb#W1sZmlsZQ%3D%3D?line=1'>2</a>\u001b[0m weights\n",
      "File \u001b[0;32m~/projects/cnn-alzheimers/src/models/class_weights.py:9\u001b[0m, in \u001b[0;36mget_class_weights\u001b[0;34m(train_dir)\u001b[0m\n\u001b[1;32m      7\u001b[0m n_samples, n_classes \u001b[39m=\u001b[39m get_counts(train_dir)\n\u001b[1;32m      8\u001b[0m \u001b[39m# compute weights ()\u001b[39;00m\n\u001b[0;32m----> 9\u001b[0m weights_dict \u001b[39m=\u001b[39m compute_weights(n_samples, n_classes)\n\u001b[1;32m     10\u001b[0m \u001b[39mreturn\u001b[39;00m weights_dict\n",
      "File \u001b[0;32m~/projects/cnn-alzheimers/src/models/class_weights.py:24\u001b[0m, in \u001b[0;36mcompute_weights\u001b[0;34m(samples_num, n_classes)\u001b[0m\n\u001b[1;32m     21\u001b[0m     tmp_weight \u001b[39m=\u001b[39m total_num\u001b[39m/\u001b[39m(n_classes\u001b[39m*\u001b[39msamples_num[i])\n\u001b[1;32m     22\u001b[0m     weights\u001b[39m.\u001b[39mappend(tmp_weight)\n\u001b[0;32m---> 24\u001b[0m weights_dict \u001b[39m=\u001b[39m \u001b[39mdict\u001b[39m(\u001b[39mzip\u001b[39m(idx, weights_dict))\n\u001b[1;32m     25\u001b[0m \u001b[39mreturn\u001b[39;00m weights_dict\n",
      "\u001b[0;31mUnboundLocalError\u001b[0m: local variable 'weights_dict' referenced before assignment"
     ]
    }
   ],
   "source": [
    "weights = get_class_weights(TRAIN_DIR)\n",
    "weights"
   ]
  },
  {
   "cell_type": "code",
   "execution_count": null,
   "metadata": {},
   "outputs": [],
   "source": []
  }
 ],
 "metadata": {
  "kernelspec": {
   "display_name": "Python 3.8.12 ('base')",
   "language": "python",
   "name": "python3"
  },
  "language_info": {
   "codemirror_mode": {
    "name": "ipython",
    "version": 3
   },
   "file_extension": ".py",
   "mimetype": "text/x-python",
   "name": "python",
   "nbconvert_exporter": "python",
   "pygments_lexer": "ipython3",
   "version": "3.8.12"
  },
  "orig_nbformat": 4,
  "vscode": {
   "interpreter": {
    "hash": "935f013ec3274d983f6cf9c6c8d3a038a9827a62579d2563240b276044aef7b2"
   }
  }
 },
 "nbformat": 4,
 "nbformat_minor": 2
}

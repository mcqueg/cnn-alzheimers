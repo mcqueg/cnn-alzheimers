{
 "cells": [
  {
   "cell_type": "markdown",
   "metadata": {},
   "source": [
    "#  10. Trainina Incpetion-v3 on ALZ data\n",
    "\n",
    "[![Open In Colab](https://colab.research.google.com/assets/colab-badge.svg)](https://colab.research.google.com/github/mcqueg/cnn-alzheimers/blob/main/notebooks/6-train-inception-v3-ALZ.ipynb) \n",
    "\n",
    "Set up the workspace by cloning the repository and installing the necessary packages within the repository."
   ]
  },
  {
   "cell_type": "code",
   "execution_count": null,
   "metadata": {},
   "outputs": [],
   "source": [
    "# mount drive for saving model checkpoints\n",
    "from google.colab import drive\n",
    "drive.mount('/content/gdrive')\n",
    "\n",
    "# load github repo and installing requirements to train the model\n",
    "!git clone https://github.com/mcqueg/cnn-alzheimers.git\n",
    "!git config --global user.name \"mcqueg\"\n",
    "!git config --global user.email \"garrettmccue@gmail.com\"\n",
    "%cd cnn-alzheimers/\n",
    "!pip install -r requirements.txt"
   ]
  },
  {
   "cell_type": "code",
   "execution_count": null,
   "metadata": {},
   "outputs": [],
   "source": [
    "from src.models.train_val import build_train_val_model\n",
    "import os\n",
    "\n",
    "# workspaces\n",
    "COLAB = '/content/cnn-alzheimers/'\n",
    "GDRIVE = '/content/gdrive/Othercomputers/MacBookPro/cnn-alzheimers/'\n",
    "\n",
    "# load from colab after mounting repo\n",
    "TRAIN_DIR = f'{COLAB}data/processed/ALZ/train'\n",
    "TEST_DIR = f'{COLAB}data/processed/ALZ/test'\n",
    "LOGS_DIR = f'{COLAB}/logs'\n",
    "\n",
    "# save to GDRIVE\n",
    "SAVE_DIR = f'{GDRIVE}models/checkpoints'\n",
    "os.listdir(TRAIN_DIR)"
   ]
  },
  {
   "cell_type": "code",
   "execution_count": null,
   "metadata": {},
   "outputs": [],
   "source": [
    "# Model types\n",
    "# 0 : inception-vs\n",
    "# 1 : vgg19\n",
    "# 2 : resnet50\n",
    "# 3 : xception\n",
    "\n",
    "# MODEL PARAMS:\n",
    "MODEL_TYPE = 0\n",
    "INPUT_SHAPE = (256, 256, 3)\n",
    "CLASS_NUM = 4\n",
    "LAST_LAYER = 'mixed10'\n",
    "DENSE_NODES = [1024, 256]\n",
    "LR = 0.001\n",
    "DROP = 0.3\n",
    "\n",
    "# TRAIN PARAMS:\n",
    "VAL_SIZE = 0.5 # splits test dir in half for  validation and testing data\n",
    "EPOCHS = 500\n",
    "BATCH = 16\n",
    "\n",
    "MODEL_NAME = f'inception-v3-alz-base_{LAST_LAYER}_{LR}_{DENSE_NODES[0]}_{DENSE_NODES[1]}'\n",
    "print(f'saving model details under: {MODEL_NAME}')"
   ]
  },
  {
   "cell_type": "code",
   "execution_count": null,
   "metadata": {},
   "outputs": [],
   "source": [
    "%load_ext tensorboard\n",
    "%tensorboard --logdir logs --host 0.0.0.0"
   ]
  },
  {
   "cell_type": "code",
   "execution_count": null,
   "metadata": {},
   "outputs": [],
   "source": [
    "history = build_train_val_model(MODEL_TYPE,\n",
    "                          INPUT_SHAPE,\n",
    "                          CLASS_NUM,\n",
    "                          LAST_LAYER,\n",
    "                          DENSE_NODES,\n",
    "                          LR,\n",
    "                          DROP,\n",
    "                          MODEL_NAME,\n",
    "                          TRAIN_DIR,\n",
    "                          TEST_DIR,\n",
    "                          LOGS_DIR,\n",
    "                          SAVE_DIR,\n",
    "                          VAL_SIZE,\n",
    "                          EPOCHS,\n",
    "                          BATCH,\n",
    "                          print_summary=True,\n",
    "                          evaluate=True)"
   ]
  }
 ],
 "metadata": {
  "kernelspec": {
   "display_name": "Python 3.8.12 ('base')",
   "language": "python",
   "name": "python3"
  },
  "language_info": {
   "name": "python",
   "version": "3.8.12"
  },
  "orig_nbformat": 4,
  "vscode": {
   "interpreter": {
    "hash": "935f013ec3274d983f6cf9c6c8d3a038a9827a62579d2563240b276044aef7b2"
   }
  }
 },
 "nbformat": 4,
 "nbformat_minor": 2
}

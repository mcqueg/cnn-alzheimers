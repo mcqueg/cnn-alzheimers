{
 "cells": [
  {
   "cell_type": "markdown",
   "metadata": {},
   "source": [
    "# 6. Training Inception-v3 with ADNI data\n",
    "[![Open In Colab](https://colab.research.google.com/assets/colab-badge.svg)](https://colab.research.google.com/github/mcqueg/cnn-alzheimers/blob/main/notebooks/6-train-inception-v3-ADNI.ipynb)  "
   ]
  },
  {
   "cell_type": "code",
   "execution_count": null,
   "metadata": {},
   "outputs": [],
   "source": [
    "'''\n",
    "from src.models.model_utils import train_val_model\n",
    "TRAIN_DIR = f'{data_path}/ADNI/train'\n",
    "\n",
    "history = train_val_model(model=v3_model,\n",
    "                          train_dir=TRAIN_DIR,\n",
    "                          val_size=0.2,\n",
    "                          epochs=20,\n",
    "                          batch_size=32)\n",
    "'''"
   ]
  }
 ],
 "metadata": {
  "kernelspec": {
   "display_name": "Python 3.8.12 ('base')",
   "language": "python",
   "name": "python3"
  },
  "language_info": {
   "name": "python",
   "version": "3.8.12"
  },
  "orig_nbformat": 4,
  "vscode": {
   "interpreter": {
    "hash": "935f013ec3274d983f6cf9c6c8d3a038a9827a62579d2563240b276044aef7b2"
   }
  }
 },
 "nbformat": 4,
 "nbformat_minor": 2
}

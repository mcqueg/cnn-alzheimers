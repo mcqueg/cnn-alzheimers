{
 "cells": [
  {
   "cell_type": "markdown",
   "metadata": {},
   "source": [
    "# 17. ALZ Transfer Learning with Xception on ADNI images\n",
    "[![Open In Colab](https://colab.research.google.com/assets/colab-badge.svg)](https://colab.research.google.com/github/mcqueg/cnn-alzheimers/blob/main/notebooks/17-TL-xception.ipynb)  "
   ]
  },
  {
   "cell_type": "code",
   "execution_count": null,
   "metadata": {},
   "outputs": [],
   "source": [
    "# mount drive for saving model checkpoints\n",
    "from google.colab import drive\n",
    "drive.mount('/content/gdrive')\n",
    "\n",
    "# load github repo and installing requirements to train the model\n",
    "!git clone https://github.com/mcqueg/cnn-alzheimers.git\n",
    "!git config --global user.name \"mcqueg\"\n",
    "!git config --global user.email \"garrettmccue@gmail.com\"\n",
    "%cd cnn-alzheimers/\n",
    "!pip install -r requirements.txt"
   ]
  },
  {
   "cell_type": "code",
   "execution_count": null,
   "metadata": {},
   "outputs": [],
   "source": [
    "from src.models.model_utils import load_model\n",
    "from src.models.train_val import train_val\n",
    "import os\n",
    "from datetime import datetime\n",
    "from tensorflow.keras import layers\n",
    "from tensorflow.keras import Model\n",
    "from tensorflow.keras.optimizers import Adam"
   ]
  },
  {
   "cell_type": "code",
   "execution_count": null,
   "metadata": {},
   "outputs": [],
   "source": [
    "# workspaces\n",
    "COLAB = '/content/cnn-alzheimers/'\n",
    "GDRIVE = '/content/gdrive/Othercomputers/MacBookPro/cnn-alzheimers/'\n",
    "\n",
    "# load from colab after mounting repo\n",
    "TRAIN_DIR = f'{COLAB}data/processed/ADNI/train'\n",
    "TEST_DIR = f'{COLAB}data/processed/ADNI/test'\n",
    "LOGS_DIR = f'{COLAB}/logs'\n",
    "\n",
    "# save to GDRIVE\n",
    "SAVE_DIR = f'{GDRIVE}models/checkpoints'\n",
    "os.listdir(TRAIN_DIR)"
   ]
  },
  {
   "cell_type": "code",
   "execution_count": null,
   "metadata": {},
   "outputs": [],
   "source": [
    "JSON_PATH = '/content/gdrive/Othercomputers/MacBookPro/cnn-alzheimers/models/checkpoints/xception-alz-conv-block12_sepconv2_act__01-08-2022_18:19:35/config/xception-alz-conv-block12_sepconv2_act__01-08-2022_18:19:35.json'\n",
    "WEIGHTS_PATH = '/content/gdrive/Othercomputers/MacBookPro/cnn-alzheimers/models/checkpoints/xception-alz-conv-block12_sepconv2_act__01-08-2022_18:19:35/ckpt/xception-alz-conv-block12_sepconv2_act__01-08-2022_18:19:35_weights.h5' \n",
    "LAST_FROZEN_LAYER = 'conv5_block3_out'\n",
    "# TRAIN PARAMS:\n",
    "LR = 0.001\n",
    "DROP = 0.3\n",
    "VAL_SIZE = 0.5 # splits test dir in half for  validation and testing data\n",
    "EPOCHS = 500\n",
    "BATCH = 16\n",
    "CLASS_NUM = 5\n",
    "\n",
    "MODEL_NAME = 'resnet50-tl-alz_adni'\n",
    "print(f'saving model details under: {MODEL_NAME}')"
   ]
  },
  {
   "cell_type": "code",
   "execution_count": null,
   "metadata": {},
   "outputs": [],
   "source": [
    "model = load_model(JSON_PATH,\n",
    "                   WEIGHTS_PATH,\n",
    "                   LAST_FROZEN_LAYER)\n",
    "for layer in model.layers:\n",
    "    layer.trainable = False\n",
    "\n",
    "# set output of the conv layers\n",
    "last_layer = model.get_layer(LAST_FROZEN_LAYER)\n",
    "print(f'last layer output shape: {last_layer.output_shape}')\n",
    "last_output = last_layer.output\n",
    "# feed output into a fresh dense network\n",
    "\n",
    "# Flatten the output layer to 1 dimension\n",
    "x = layers.Flatten()(last_output)\n",
    "# add a fully connected layer\n",
    "x = layers.Dense(1024, activation='relu')(x)\n",
    "# add the dropout rate of 0.2\n",
    "x = layers.Dropout(DROP)(x)\n",
    "# add a final layer with softmax for classification\n",
    "x = layers.Dense(CLASS_NUM, activation='softmax')(x)\n",
    "\n",
    "# append the created dense network to the pre_trained_model\n",
    "model = Model(model.input, x)\n",
    "\n",
    "# print model summary\n",
    "model.summary()"
   ]
  },
  {
   "cell_type": "code",
   "execution_count": null,
   "metadata": {},
   "outputs": [],
   "source": [
    "now = datetime.now()\n",
    "start_time = now.strftime(\"_%d-%m-%Y_%H:%M:%S\")\n",
    "name = f'{MODEL_NAME}_{start_time}'\n",
    "\n",
    "os.makedirs(os.path.join(os.path.join(SAVE_DIR,name),'ckpt'), exist_ok=True)\n",
    "save_weights_path=os.path.join(os.path.join(SAVE_DIR,name), 'ckpt/')\n",
    "print(f\"\\nsaving weights at: \\n\\t{save_weights_path}\")\n",
    "\n",
    "os.makedirs(os.path.join(os.path.join(SAVE_DIR,name), 'config'), exist_ok=True)\n",
    "config_path=os.path.join(os.path.join(SAVE_DIR,name), 'config')\n",
    "print(f\"\\nsaving model architecture at: \\n\\t{config_path}\\n\")\n",
    "\n",
    "# -- save model architecture\n",
    "model_config = model.to_json()\n",
    "with open(os.path.join(config_path, f'{name}.json'), 'w') as json_file:\n",
    "    json_file.write(model_config)"
   ]
  },
  {
   "cell_type": "code",
   "execution_count": null,
   "metadata": {},
   "outputs": [],
   "source": [
    " # compile model\n",
    "model.compile(optimizer = Adam(learning_rate=LR),\n",
    "                  loss = 'categorical_crossentropy',\n",
    "                  metrics = ['accuracy'])"
   ]
  },
  {
   "cell_type": "code",
   "execution_count": null,
   "metadata": {},
   "outputs": [],
   "source": [
    "%load_ext tensorboard\n",
    "%tensorboard --logdir logs --host 0.0.0.0"
   ]
  },
  {
   "cell_type": "code",
   "execution_count": null,
   "metadata": {},
   "outputs": [],
   "source": [
    "history = train_val(model=model,\n",
    "                    name=name,\n",
    "                    weights_path=save_weights_path,\n",
    "                    train_dir=TRAIN_DIR,\n",
    "                    test_dir =TEST_DIR,\n",
    "                    logs_dir=LOGS_DIR,\n",
    "                    save_dir=SAVE_DIR,\n",
    "                    val_size=VAL_SIZE,\n",
    "                    epochs=EPOCHS,\n",
    "                    lr=LR,\n",
    "                    batch_size=BATCH,\n",
    "                    evaluate=True)"
   ]
  }
 ],
 "metadata": {
  "language_info": {
   "name": "python"
  },
  "orig_nbformat": 4
 },
 "nbformat": 4,
 "nbformat_minor": 2
}

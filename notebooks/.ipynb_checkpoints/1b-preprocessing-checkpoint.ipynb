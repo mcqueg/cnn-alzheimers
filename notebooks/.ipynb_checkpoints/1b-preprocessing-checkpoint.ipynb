{
 "cells": [
  {
   "cell_type": "code",
   "execution_count": 7,
   "metadata": {},
   "outputs": [],
   "source": [
    "import os\n",
    "import cv2\n",
    "from shutil import copyfile\n",
    "import time\n"
   ]
  },
  {
   "cell_type": "code",
   "execution_count": 8,
   "metadata": {},
   "outputs": [
    {
     "data": {
      "text/plain": [
       "'/Users/garrettmccue/projects/cnn-alzheimers'"
      ]
     },
     "execution_count": 8,
     "metadata": {},
     "output_type": "execute_result"
    }
   ],
   "source": [
    "# set correct local working directory\n",
    "ROOT = '/Users/garrettmccue/projects/cnn-alzheimers/'\n",
    "data = f'{ROOT}/data'\n",
    "\n",
    "os.chdir(ROOT)\n",
    "os.getcwd()"
   ]
  },
  {
   "cell_type": "markdown",
   "metadata": {},
   "source": [
    "## ADNI processing"
   ]
  },
  {
   "cell_type": "code",
   "execution_count": 9,
   "metadata": {},
   "outputs": [],
   "source": [
    "os.makedirs(f'{data}/processed/ADNI/train')\n",
    "os.makedirs(f'{data}/processed/ADNI/test')"
   ]
  },
  {
   "cell_type": "code",
   "execution_count": 10,
   "metadata": {},
   "outputs": [],
   "source": [
    "os.chdir(f'{ROOT}/src/')\n",
    "from data.process import process_img\n",
    "\n",
    "# path to save images to\n",
    "TRAIN_OUT_DIR = f'{data}/processed/ADNI/train'\n",
    "# path to raw data root folder \n",
    "TRAIN_IN_DIR = f'{data}/ADNI/train'\n",
    "\n",
    "TEST_OUT_DIR = f'{data}/processed/ADNI/test'\n",
    "TEST_IN_DIR = f'{data}/ADNI/test'\n",
    "\n"
   ]
  },
  {
   "cell_type": "code",
   "execution_count": 12,
   "metadata": {},
   "outputs": [],
   "source": [
    "\n",
    "# loop through class names generating the path to folder of that class\n",
    "\n",
    "def process_dir(IN_DIR, OUT_DIR):\n",
    "    # get class dir names\n",
    "    CLASSES = os.listdir(IN_DIR)\n",
    "    # create directories for them based on class\n",
    "    for dir in CLASSES:\n",
    "        os.makedirs(os.path.join(OUT_DIR, dir))\n",
    "    \n",
    "    #files = 0\n",
    "\n",
    "    #for dir in os.listdir(IN_DIR):\n",
    "    #    dir_num = len([f for f in os.listdir(os.path.join(IN_DIR, dir)) if not f.startswith('.')])\n",
    "    #    #files+=len(os.listdir(os.path.join(IN_DIR, dir)))\n",
    "    #    files+=dir_num\n",
    "    #print(f'{files} found to process')\n",
    "\n",
    "\n",
    "    num_processed = 1\n",
    "    for c in CLASSES:\n",
    "        out_class_dir = os.path.join(OUT_DIR, c)\n",
    "        class_dir = os.path.join(IN_DIR, c)\n",
    "        #loop through each image in the current class directory\n",
    "        for image in os.listdir(class_dir):\n",
    "            img_path = os.path.join(class_dir, image)\n",
    "            #ignore image if it is of size = 0\n",
    "            if os.path.getsize(img_path) == 0:\n",
    "                print(f'{img_path} is zero length so ignoring.')\n",
    "            else:\n",
    "                processed_img = process_img(img_path) #process image from ROOT/src/data/process.py\n",
    "                print(f'\\r{num_processed} images processed', end='')\n",
    "                time.sleep(.05)\n",
    "                #create path to out image\n",
    "                out_path = os.path.join(out_class_dir, image)\n",
    "                # write the processed image into the processed directory within its class folder\n",
    "                cv2.imwrite(out_path,processed_img)\n",
    "                num_processed += 1\n",
    "    print()\n"
   ]
  },
  {
   "cell_type": "code",
   "execution_count": 13,
   "metadata": {},
   "outputs": [
    {
     "name": "stdout",
     "output_type": "stream",
     "text": [
      "226 images processed"
     ]
    },
    {
     "ename": "",
     "evalue": "",
     "output_type": "error",
     "traceback": [
      "\u001b[1;31mCanceled future for execute_request message before replies were done"
     ]
    },
    {
     "ename": "",
     "evalue": "",
     "output_type": "error",
     "traceback": [
      "\u001b[1;31mThe Kernel crashed while executing code in the the current cell or a previous cell. Please review the code in the cell(s) to identify a possible cause of the failure. Click <a href='https://aka.ms/vscodeJupyterKernelCrash'>here</a> for more info. View Jupyter <a href='command:jupyter.viewOutput'>log</a> for further details."
     ]
    }
   ],
   "source": [
    "# process the training images\n",
    "process_dir(TRAIN_IN_DIR, TRAIN_OUT_DIR)"
   ]
  },
  {
   "cell_type": "markdown",
   "metadata": {},
   "source": [
    "correct number of images have been processed for the train set. we can now process the test set so it is ready to test the models after training. "
   ]
  },
  {
   "cell_type": "code",
   "execution_count": null,
   "metadata": {},
   "outputs": [
    {
     "ename": "",
     "evalue": "",
     "output_type": "error",
     "traceback": [
      "\u001b[1;31mRunning cells with 'Python 3.8.9 64-bit' requires ipykernel package.\n",
      "Run the following command to install 'ipykernel' into the Python environment. \n",
      "Command: '/usr/bin/python3 -m pip install ipykernel -U --user --force-reinstall'"
     ]
    }
   ],
   "source": [
    "# process the test images\n",
    "process_dir(TEST_IN_DIR, TEST_OUT_DIR)"
   ]
  }
 ],
 "metadata": {
  "kernelspec": {
   "display_name": "Python 3.9.12 ('alz')",
   "language": "python",
   "name": "python3"
  },
  "language_info": {
   "codemirror_mode": {
    "name": "ipython",
    "version": 3
   },
   "file_extension": ".py",
   "mimetype": "text/x-python",
   "name": "python",
   "nbconvert_exporter": "python",
   "pygments_lexer": "ipython3",
   "version": "3.9.12"
  },
  "orig_nbformat": 4,
  "vscode": {
   "interpreter": {
    "hash": "26b1d4c6476c0d9cef8ba947c2b686795862a142fa50d2e9f8e588518866550b"
   }
  }
 },
 "nbformat": 4,
 "nbformat_minor": 2
}
